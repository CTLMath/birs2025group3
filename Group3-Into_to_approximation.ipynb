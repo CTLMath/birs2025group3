{
 "cells": [
  {
   "cell_type": "markdown",
   "id": "7aceaa62-aca8-4de9-b478-9ab7146273a1",
   "metadata": {},
   "source": [
    "Lesson plan:\n",
    "* Group discussion about how to approximate $\\sqrt{2}$ on slides.\n",
    "* Review of Linear Approximation. \n",
    "  \n",
    "**Questions**\n",
    "* How accurate is the estimation? How do you know?\n",
    "* How can we get 10 decimal places of accuracy using this technique?\n",
    "* What could go wrong?\n",
    "\n",
    "**IVT** on slides with a review of the prove that $f(x) = x^2 -2$ has a root inside the interval $[0, 2]$.\n",
    "\n",
    "**Binary Search Method**\n",
    "\n",
    "**Newton's Method**\n",
    "\n",
    "* Review and closure via class discussion comparing the pros and cons of each technique discussed in the class, along with the educational use of technology. "
   ]
  },
  {
   "cell_type": "markdown",
   "id": "e1290d1e-eab3-4f3d-837a-e29622caae90",
   "metadata": {},
   "source": [
    "## Approximating Values\n",
    "\n",
    "Sequences in Calculus or Analysis are commonly used to approximate a value.  We can use our knowledge of Calculus to design the sequence and then use computers go the computations.  "
   ]
  },
  {
   "cell_type": "markdown",
   "id": "25c826fb-09dd-444f-969d-0499396563e3",
   "metadata": {},
   "source": [
    "The **Bisection Method** is a numerical technique used to find the roots (or zeros) of a continuous function. It leverages the **Intermediate Value Theorem (IVT)**.\n",
    "\n",
    "Here's how it works in the simplest terms:\n",
    "\n",
    "1.  **Guaranteed Root:** You start with an interval `[a, b]` where you know a root exists. How do you know? Because the IVT tells you that if a continuous function `f(x)` changes sign over an interval (i.e., `f(a)` and `f(b)` have opposite signs, one positive and one negative), then there *must* be at least one root within that interval.\n",
    "\n",
    "2.  **Find the Midpoint:** Calculate the midpoint of your current interval: `m = (a + b) / 2`.\n",
    "\n",
    "3.  **Check the Midpoint's Sign:**\n",
    "    * If `f(m)` is very close to zero (or exactly zero), then `m` is your root (or a very good approximation). You're done!\n",
    "    * If `f(m)` has the **same sign** as `f(a)`, it means the root must be in the right half of the interval, `[m, b]`. So, you discard the left half and make `m` your new `a`.\n",
    "    * If `f(m)` has the **same sign** as `f(b)`, it means the root must be in the left half of the interval, `[a, m]`. So, you discard the right half and make `m` your new `b`.\n",
    "\n",
    "4.  **Repeat:** You keep repeating steps 2 and 3. Each time, you effectively cut the interval in half, narrowing down the location of the root.\n",
    "\n",
    "**In essence, the Bisection Method is like playing \"hot or cold\" with a root, but you're always guaranteed to get \"warmer\" by continually halving the search space.** You continue this process until the interval is so small that the midpoint is a sufficiently accurate approximation of the root."
   ]
  },
  {
   "cell_type": "markdown",
   "id": "5c63628f-64d9-4554-9666-a33dbad8a178",
   "metadata": {},
   "source": [
    "**Exercise** Approximate $\\sqrt{2}$ by exploiting the Intermediate Value Theorem (IVT) on the function $f(x) = x^2 -2$ with the initial interval $[0, 2]$. Tweak the following code to print each approximation and state if it is too big or too small. Continue until you find 5 decimal places of accuracy. "
   ]
  },
  {
   "cell_type": "code",
   "execution_count": 8,
   "id": "91690e21-2949-4ce4-9f24-a369d6817e28",
   "metadata": {},
   "outputs": [
    {
     "name": "stdout",
     "output_type": "stream",
     "text": [
      "Calculated square root of 2: 1.4142112732\n",
      "Number of iterations: 17\n"
     ]
    }
   ],
   "source": [
    "\n",
    "def binary_search_sqrt2(target, precision=1e-5):\n",
    "    # Start with the search interval [low, high]\n",
    "    low, high = 1.0, 2.0\n",
    "    mid = (low + high) / 2.0\n",
    "    iterations = 0  # Initialize iteration counter\n",
    "\n",
    "    while high - low > precision:\n",
    "        iterations += 1  # Increment the counter at each iteration\n",
    "        if mid * mid < target:\n",
    "            low = mid\n",
    "        else:\n",
    "            high = mid\n",
    "        mid = (low + high) / 2.0\n",
    "\n",
    "    return round(mid, 10), iterations  # Return the result along with the iteration count\n",
    "\n",
    "# Find sqrt(2) to five decimal places\n",
    "sqrt_2_approx, num_iterations = binary_search_sqrt2(2)\n",
    "print(\"Calculated square root of 2:\", sqrt_2_approx)\n",
    "print(\"Number of iterations:\", num_iterations)"
   ]
  },
  {
   "cell_type": "markdown",
   "id": "779f9187-576b-4a00-985c-0a0894ae2e04",
   "metadata": {},
   "source": [
    "**Questions**\n",
    "\n",
    "How accurate is an estimation? How do you know? \n",
    "\n",
    "How can we get more accuracy using this technique? \n",
    "\n",
    "How long will it take to get 10 decimal places of accuracy?\n",
    "\n",
    "Is the estimate too much or too little? How do you know?\n",
    "\n",
    "What could go wrong?"
   ]
  },
  {
   "cell_type": "markdown",
   "id": "b923b81a-b7cf-4104-b136-65d05ca4eee7",
   "metadata": {},
   "source": [
    "### Newton's Method (also known as Newton-Raphson Method)\n",
    "\n",
    "Newton's Method is a powerful and generally fast technique for finding approximate roots of a differentiable function. Unlike the Bisection Method which relies on an interval, Newton's Method uses tangent lines to refine an initial guess.\n",
    "\n",
    "Here's how it works:\n",
    "\n",
    "1.  **Make an Initial Guess:** Start with an initial guess for the root, let's call it $x_0$. **This guess should be reasonably close to the actual root.**\n",
    "\n",
    "2.  **Draw a Tangent Line:** At the point $(x_0, f(x_0))$ on the curve of the function $f(x)$, draw the tangent line to the curve.\n",
    "\n",
    "3.  **Find the x-intercept of the Tangent Line:** This is the core step. The tangent line will intersect the x-axis at a new point. Let's call this new x-intercept $x_1$. This $x_1$ is our *improved* guess for the root.\n",
    "\n",
    "    * **How to find $x_1$:**\n",
    "        * The slope of the tangent line at $x_0$ is given by the derivative $f'(x_0)$.\n",
    "        * The equation of the tangent line is $y - f(x_0) = f'(x_0)(x - x_0)$.\n",
    "        * To find the x-intercept, we set $y = 0$:\n",
    "            $0 - f(x_0) = f'(x_0)(x_1 - x_0)$\n",
    "            $-f(x_0) = f'(x_0)x_1 - f'(x_0)x_0$\n",
    "            $f'(x_0)x_1 = f'(x_0)x_0 - f(x_0)$\n",
    "            $x_1 = x_0 - \\frac{f(x_0)}{f'(x_0)}$\n",
    "\n",
    "4.  **Repeat (Iterate):** Now, use this new, improved guess $x_1$ as your starting point for the next iteration. Draw a tangent line at $(x_1, f(x_1))$, find its x-intercept ($x_2$), and so on.\n",
    "\n",
    "    The general iterative formula is:\n",
    "    $$\n",
    "    x_{n+1} = x_n - \\frac{f(x_n)}{f'(x_n)}\n",
    "    $$\n",
    "\n",
    "5.  **Stop When Close Enough:** You repeat this process until the new guess $x_{n+1}$ is very close to the previous guess $x_n$, or when $f(x_n)$ is very close to zero. This means you've found a sufficiently accurate approximation of the root."
   ]
  },
  {
   "cell_type": "markdown",
   "id": "d66c437d-8bd7-4965-87aa-27dbccc6076a",
   "metadata": {},
   "source": [
    "**Exercise** Approximate $\\sqrt{2}$ by applying Newton's Method on the function $f(x) = x^2 -2$ with the initial interval $x_1=2$.  Continue until you find 5 decimal places of accuracy. (How do you know?)"
   ]
  },
  {
   "cell_type": "code",
   "execution_count": 9,
   "id": "7c375d2b-787d-4e5a-8b1e-e84210d3782f",
   "metadata": {},
   "outputs": [
    {
     "name": "stdin",
     "output_type": "stream",
     "text": [
      "Enter the number of iterations you would like to run:  4\n"
     ]
    },
    {
     "name": "stdout",
     "output_type": "stream",
     "text": [
      "Iteration 1: 1.5\n",
      "Iteration 2: 1.416666666\n",
      "Iteration 3: 1.414215686\n",
      "Iteration 4: 1.414213562\n",
      "Calculated square root of 2 is approximately: 1.414213562\n"
     ]
    }
   ],
   "source": [
    "from decimal import Decimal, getcontext\n",
    "\n",
    "def newton_sqrt2(target, num_iterations):\n",
    "    # Set precision for Decimal calculations\n",
    "    getcontext().prec = 10  # A little more than 50 to maintain accuracy during calculations\n",
    "\n",
    "    # Convert target to a Decimal\n",
    "    target = Decimal(target)\n",
    "    \n",
    "    # Initial guess\n",
    "    x_n = target / 2  # Start with half of the target\n",
    "    \n",
    "    for iteration in range(1, num_iterations + 1):\n",
    "        x_next = (x_n + target / x_n) / 2  # Update using Newton's formula\n",
    "        \n",
    "        # Print the current estimate and state\n",
    "        print(f\"Iteration {iteration}: {x_next}\")\n",
    "        \n",
    "        x_n = x_next  # Update the current guess for the next iteration\n",
    "\n",
    "    return x_next  # Return the result without rounding\n",
    "\n",
    "# Ask the user for the number of iterations\n",
    "num_iterations = int(input(\"Enter the number of iterations you would like to run: \"))\n",
    "\n",
    "# Find sqrt(2) with the specified number of iterations\n",
    "sqrt_2_approx = newton_sqrt2(2, num_iterations)\n",
    "print(\"Calculated square root of 2 is approximately:\", sqrt_2_approx)"
   ]
  },
  {
   "cell_type": "markdown",
   "id": "3a0ac47b-7160-4f01-936c-863326f7144d",
   "metadata": {},
   "source": [
    "**Questions**\n",
    "\n",
    "How accurate is the estimation? How do you know? \n",
    "\n",
    "How can we get more accuracy using this technique? \n",
    "\n",
    "How long will it take to get 10 decimal places of accuracy?\n",
    "\n",
    "Is the estimate too much or too little? How do you know?\n",
    "\n",
    "What could go wrong?"
   ]
  },
  {
   "cell_type": "markdown",
   "id": "a9dee51f-a595-44ab-9f92-94061df340b7",
   "metadata": {},
   "source": [
    "**Activity 2**\n",
    "Approximate the value of $\\sqrt[3]{10}$ accurate to 10 decimal places.  Plot the successive terms on the graph."
   ]
  },
  {
   "cell_type": "code",
   "execution_count": null,
   "id": "9b9ed6de-d706-4a46-97f2-9323a855874c",
   "metadata": {},
   "outputs": [],
   "source": [
    "#Your Code Here:"
   ]
  },
  {
   "cell_type": "markdown",
   "id": "729c644d-441a-47f0-a18a-f3dcb8ddd315",
   "metadata": {},
   "source": [
    "**Activity 3**: Apply Newton's Method find the root of $f(x)= \\sqrt{3}$ with any initial condition other than 0. "
   ]
  },
  {
   "cell_type": "code",
   "execution_count": null,
   "id": "48114cd8-23bd-44b7-8546-373e13ecbc09",
   "metadata": {},
   "outputs": [],
   "source": [
    "#Your Code Here:"
   ]
  }
 ],
 "metadata": {
  "kernelspec": {
   "display_name": "Python 3 (ipykernel)",
   "language": "python",
   "name": "python3"
  },
  "language_info": {
   "codemirror_mode": {
    "name": "ipython",
    "version": 3
   },
   "file_extension": ".py",
   "mimetype": "text/x-python",
   "name": "python",
   "nbconvert_exporter": "python",
   "pygments_lexer": "ipython3",
   "version": "3.12.8"
  }
 },
 "nbformat": 4,
 "nbformat_minor": 5
}
