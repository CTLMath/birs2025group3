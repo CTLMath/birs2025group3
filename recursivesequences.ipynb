{
 "cells": [
  {
   "cell_type": "markdown",
   "id": "4df7faa7-ebf4-48d1-88e3-ce44a709277e",
   "metadata": {},
   "source": [
    "# Recursive Sequences\n",
    "\n",
    "We call $\\{a_n\\}$ bounded if it is both bounded above and bounded below.\n",
    "\n",
    "Consider the sequence $\\{a_n\\}$ recursively defined via  $$a_{1}=1, \\quad a_{n+1}=\\frac{3+a_{n}}{2} \\quad(n \\geqslant 1).$$\n",
    "Such sequences are called recursive sequences where each term is defined in terms of the previous term.\n",
    "We'll try to determine if such sequences converge and if so find their limit.\n",
    "Let's take a look at the first $10$ terms of this sequence $a_{1}=1, \\quad a_{n+1}=\\dfrac{3+a_{n}}{2} \\quad(n \\geqslant 1).$:\n"
   ]
  },
  {
   "cell_type": "code",
   "execution_count": 11,
   "id": "f16d0c2b-8b3f-4840-968a-003599fba9e9",
   "metadata": {},
   "outputs": [
    {
     "name": "stdout",
     "output_type": "stream",
     "text": [
      "The value of a1 is 1\n",
      "The value of a2 is 2.0\n",
      "The value of a3 is 2.5\n",
      "The value of a4 is 2.75\n",
      "The value of a5 is 2.875\n",
      "The value of a6 is 2.9375\n",
      "The value of a7 is 2.96875\n",
      "The value of a8 is 2.984375\n",
      "The value of a9 is 2.9921875\n",
      "The value of a10 is 2.99609375\n"
     ]
    }
   ],
   "source": [
    "a1=1\n",
    "a2=(3+a1)/2\n",
    "a3=(3+a2)/2\n",
    "a4=(3+a3)/2\n",
    "a5=(3+a4)/2\n",
    "a6=(3+a5)/2\n",
    "a7=(3+a6)/2\n",
    "a8=(3+a7)/2\n",
    "a9=(3+a8)/2\n",
    "a10=(3+a9)/2\n",
    "print(\"The value of a1 is\",a1)\n",
    "print(\"The value of a2 is\",a2)\n",
    "print(\"The value of a3 is\",a3)\n",
    "print(\"The value of a4 is\",a4)\n",
    "print(\"The value of a5 is\",a5)\n",
    "print(\"The value of a6 is\",a6)\n",
    "print(\"The value of a7 is\",a7)\n",
    "print(\"The value of a8 is\",a8)\n",
    "print(\"The value of a9 is\",a9)\n",
    "print(\"The value of a10 is\",a10)"
   ]
  },
  {
   "cell_type": "markdown",
   "id": "729f08f3-c457-4bc8-a302-b94e68a69491",
   "metadata": {},
   "source": [
    "Before we describe how to determine if a recursive sequence converges, we first introduce some terminology.\n",
    "We say that $\\alpha$ is an upper bound of $\\{a_n\\}$ if $a_n \\leq \\alpha$ for all $n \\in \\mathbb{N}$. In this case, we say $\\{a_n\\}$ is bounded below and $\\alpha$ is an upper bound of $\\{a_n\\}$. Similarly, $\\beta$ is a lower bound of $\\{a_n\\}$ if $a_n \\geq \\alpha$ for all $n \\in \\mathbb{N}$. In this case $\\{a_n\\}$ is bounded below and $\\beta$ is a lower bound of $\\{a_n\\}$.\n",
    "Based on our calculations above, we see that this sequence is bounded below by $1$ and bounded above by $3$. But, we can also say this sequence is bounded below by $0$ and bounded above by $5$, or this sequence is bounded below by $-1$ and bounded above by $100$. Clearly, these values are not unique!\n",
    "\n",
    "This brings us the notion of least upper bound and smallest upper bound.\n",
    "\n",
    "$\\alpha$ is called the least upper bound of $\\{a_n\\}$ if:\n",
    "\n",
    "* $\\alpha$ is an upper bound, and \n",
    "* $\\alpha$ is the smallest upper bound, that is, if $\\alpha'$ is another upper bound of $\\{a_n\\}$, then $\\alpha^{\\prime} \\geq  \\alpha$.\n",
    "\n",
    "Similarly, $\\beta$ is called the greatest lower bound of $\\{a_n\\}$ if:\n",
    "* $\\beta$ is a lower bound, and \n",
    "* $\\beta$ is the largest lower bound, that is, if $\\beta'$ is another lower bound of $\\{a_n\\}$, then $\\beta'\\leq  \\beta$.\n",
    "\n",
    "The code below will calculate the first $10$ terms of the same sequence $a_{1}=1, \\quad a_{n+1}=\\dfrac{3+a_{n}}{2} \\quad(n \\geqslant 1).$ using a more efficient method, using a for loop (you do not have to worry about how this code works at this point in your studies):\n"
   ]
  },
  {
   "cell_type": "code",
   "execution_count": 12,
   "id": "f1aed0fd-c0a2-4ea4-bf70-e74fd010c79b",
   "metadata": {
    "editable": true,
    "slideshow": {
     "slide_type": ""
    },
    "tags": []
   },
   "outputs": [
    {
     "name": "stdout",
     "output_type": "stream",
     "text": [
      "The value of a1 is 1\n",
      "The value of a2 is 2.0\n",
      "The value of a3 is 2.5\n",
      "The value of a4 is 2.75\n",
      "The value of a5 is 2.875\n",
      "The value of a6 is 2.9375\n",
      "The value of a7 is 2.96875\n",
      "The value of a8 is 2.984375\n",
      "The value of a9 is 2.9921875\n",
      "The value of a10 is 2.99609375\n"
     ]
    }
   ],
   "source": [
    "a = [1]  # start with a1 = 1\n",
    "\n",
    "for i in range(1, 10):  # from a2 to a10\n",
    "    next_term = (3 + a[i - 1]) / 2\n",
    "    a.append(next_term)\n",
    "\n",
    "for i in range(10):\n",
    "    print(f\"The value of a{i+1} is\", a[i])"
   ]
  },
  {
   "cell_type": "markdown",
   "id": "ca6797c1-da5d-4a8b-a524-2d011a439e82",
   "metadata": {},
   "source": [
    "Based on our calculations above, we say the greatest lower bound of $\\{a_n\\}$ is $1$ and the least upper bound $\\{a_n\\}$ is $3$."
   ]
  },
  {
   "cell_type": "markdown",
   "id": "f950a94b-f034-4d4a-8919-62c879442726",
   "metadata": {},
   "source": [
    "An important class of sequences are monotonic sequences, which we define formally as follows:\n",
    "We say that a sequence $\\left\\{a_{n}\\right\\}$ is:\n",
    "\n",
    "* increasing if $ a_{n} \\leq a_{n+1}$ for all $n\\in\\mathbb{N}$.\n",
    "* strictly increasing if $ a_{n} < a_{n+1}$   for all $n\\in\\mathbb{N}$.\n",
    "* decreasing if $ a_{n} \\geq a_{n+1}$  for all $n\\in\\mathbb{N}$.\n",
    "* strictly decreasing if $ a_{n} > a_{n+1}$   for all $n\\in\\mathbb{N}$.\n",
    "Finally, a sequence $\\left\\{a_{n}\\right\\}$ is monotonic (or monotone) if it is either  decreasing or increasing.\n",
    "Let's look at the sequence $$a_{1}=1, \\quad a_{n+1}= a_n + \\dfrac{(-1)^n}{n} \\quad(n \\geqslant 1).$$"
   ]
  },
  {
   "cell_type": "code",
   "execution_count": 13,
   "id": "fdfaa94a-7c03-458c-8842-804126e00913",
   "metadata": {},
   "outputs": [
    {
     "name": "stdout",
     "output_type": "stream",
     "text": [
      "a1 = 1\n",
      "a2 = 1.5\n",
      "a3 = 1.1666666666666667\n",
      "a4 = 1.4166666666666667\n",
      "a5 = 1.2166666666666668\n",
      "a6 = 1.3833333333333335\n",
      "a7 = 1.2404761904761907\n",
      "a8 = 1.3654761904761907\n",
      "a9 = 1.2543650793650796\n",
      "a10 = 1.3543650793650797\n"
     ]
    }
   ],
   "source": [
    "a = 1  # a1\n",
    "print(f\"a1 = {a}\")\n",
    "\n",
    "for n in range(2, 11):\n",
    "    a += ((-1) ** n) / n\n",
    "    print(f\"a{n} = {a}\")"
   ]
  },
  {
   "cell_type": "markdown",
   "id": "f85566ea-b66f-47ab-88e0-2e36fe3f032a",
   "metadata": {},
   "source": [
    "As you can see the terms of this sequence increase and then decrease and then increase and then decrease, not behaving monotonicly.\n",
    "Let's take a look at another recursive sequence. Consider the sequence $\\{a_n\\}$ recursively defined via  $$a_{1}=2, \\quad a_{n+1}=\\sqrt{7+a_{n}} \\quad(n \\geqslant 1).$$\n",
    "For fun, let's take a look at the first $20$:"
   ]
  },
  {
   "cell_type": "code",
   "execution_count": 16,
   "id": "85d30989-ef1c-449f-ba15-423de33670f0",
   "metadata": {},
   "outputs": [
    {
     "name": "stdout",
     "output_type": "stream",
     "text": [
      "a1 = 2\n",
      "a2 = 3.0\n",
      "a3 = 3.1622776601683795\n",
      "a4 = 3.187832752853948\n",
      "a5 = 3.1918384597053073\n",
      "a6 = 3.192465890139675\n",
      "a7 = 3.1925641559943125\n",
      "a8 = 3.192579545758306\n",
      "a9 = 3.192581955997106\n",
      "a10 = 3.192582333471935\n",
      "a11 = 3.1925823925894123\n",
      "a12 = 3.192582401847979\n",
      "a13 = 3.1925824032979913\n",
      "a14 = 3.192582403525082\n",
      "a15 = 3.1925824035606474\n",
      "a16 = 3.1925824035662176\n",
      "a17 = 3.1925824035670898\n",
      "a18 = 3.1925824035672266\n",
      "a19 = 3.192582403567248\n",
      "a20 = 3.1925824035672514\n"
     ]
    }
   ],
   "source": [
    "import math\n",
    "a = 2  # a1\n",
    "print(f\"a1 = {a}\")\n",
    "\n",
    "for n in range(2, 21):  # a2 to a20\n",
    "    a = math.sqrt(7 + a)\n",
    "    print(f\"a{n} = {a}\")"
   ]
  },
  {
   "cell_type": "markdown",
   "id": "bf331c68-4eb4-4b74-8716-d0094a35e907",
   "metadata": {},
   "source": [
    "Based on our calculations above, we see that $\\{a_n\\}$ is an increasing sequence. But we also observe that the terms of this sequence stabilize at around the value $3.19$. We'll call this the limit of \\{a_n\\}$. Figure below gives us a better picture of this scenario."
   ]
  },
  {
   "cell_type": "code",
   "execution_count": 17,
   "id": "d46bf442-7439-4aad-9b87-2c16e3e41226",
   "metadata": {},
   "outputs": [
    {
     "data": {
      "image/png": "[encoded data removed]",
      "text/plain": [
       "<Figure size 800x500 with 1 Axes>"
      ]
     },
     "metadata": {},
     "output_type": "display_data"
    }
   ],
   "source": [
    "import math\n",
    "import matplotlib.pyplot as plt\n",
    "\n",
    "# Initialize first term\n",
    "a = 2\n",
    "terms = [a]  # list to store a_n values\n",
    "\n",
    "# Generate next 19 terms (up to a20)\n",
    "for _ in range(19):\n",
    "    a = math.sqrt(7 + a)\n",
    "    terms.append(a)\n",
    "\n",
    "# Prepare n values\n",
    "n_values = list(range(1, 21))\n",
    "\n",
    "# Plot the sequence\n",
    "plt.figure(figsize=(8, 5))\n",
    "plt.plot(n_values, terms, marker='o', linestyle='-', color='blue', label=r'$a_n$')\n",
    "plt.title(r'Recursive Sequence: $a_1 = 2$, $a_{n+1} = \\sqrt{7 + a_n}$')\n",
    "plt.xlabel(r'$n$')\n",
    "plt.ylabel(r'$a_n$')\n",
    "plt.grid(True)\n",
    "plt.legend()\n",
    "plt.tight_layout()\n",
    "plt.show()"
   ]
  }
 ],
 "metadata": {
  "kernelspec": {
   "display_name": "Python 3 (ipykernel)",
   "language": "python",
   "name": "python3"
  },
  "language_info": {
   "codemirror_mode": {
    "name": "ipython",
    "version": 3
   },
   "file_extension": ".py",
   "mimetype": "text/x-python",
   "name": "python",
   "nbconvert_exporter": "python",
   "pygments_lexer": "ipython3",
   "version": "3.12.8"
  }
 },
 "nbformat": 4,
 "nbformat_minor": 5
}
