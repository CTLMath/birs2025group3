{
 "cells": [
  {
   "cell_type": "markdown",
   "id": "cfa07c2b-de6b-4a84-845d-e2a7d768ec3c",
   "metadata": {},
   "source": [
    "# MAT133 Project 1: Analyzing Rates of Change\n",
    "\n",
    "### Brief summary of the project's group component \n",
    "As a group, students will analyze rates of change of a real time series data set of their choice, in order to address a research question of their choice. To complete the project, each group will have to write a report to communicate their findings which includes each of the following four sections:\n",
    "* **Introduction.** In this section, students should begin with a statement of the research question that the group aims to answer by analyzing their data set and its rates of change (written using non-technical language accessible to the general public). Here, they should also explain _why_ their group is interested in answering this question, and include one or more paragraphs explaining the meaning and relevance of their data set.\n",
    "* **Visual Representations.** In this section, students will present a scatter plot (or scatter plots) of their time series and write one or more paragraphs describing the behaviour of their function(s) based on their graph(s). All graphs should have properly labelled axes (with units), and all graphs should be introduced to the reader through a short paragraph.\n",
    "* **Rates of Change.** Here, students will analyze the rates of change for their data set and discuss how this rates relate to the group's research question. Each of the following elements should be presented (at some point) in this section (in a manner that's easy for the reader to follow):\n",
    "    * At least one calculation of an average rate of change and an interpretation of its meaning in context (including units).\n",
    "    *  At least one estimate of an instantaneous rate of change and an interpretation of its meaning in context (including units).\n",
    "    *  At least one estimate of a relative rate of change and an interpretation of its meaning in context (including units).\n",
    "    *  A data table consisting of (approximate) values of the instantaneous rates of change of the function represented by the data, and a brief description of how the numbers in the table were calculated.\n",
    "    *  An approximate graph of the derivative of the function represented by the data (based only on the dataset and the approximations made using this dataset) with clearly labelled axes (including units).\n",
    "    *  A discussion on the rates of change of the function represented by the data, including an explain how they are relevant to the “real world” and how they relate to the research question (written using language understandable by any other student in MAT133).\n",
    "* **Conclusions.** Here, students will write one or more parangraphs summarizing their findings and their relationship to the research question (written using language that is easily accessible to the general public).\n",
    "\n",
    "### Brief summary of the project's individual part\n",
    "Prior to working on the group component of the project, students must complete the individual part of the project. This is a short exercise intended to help them prepare for collaborating on the group project by sharpening their skills with computational tools and solidifying some important mathematical concepts in the context of a specific real-world data set (provided to students). \n",
    "\n",
    "Up until 2024-25, students have used Excel to complete both components of the project."
   ]
  },
  {
   "cell_type": "markdown",
   "id": "d86e8c28-7c00-47b9-9904-850641ae85a3",
   "metadata": {},
   "source": [
    "## Working through the exercises in the project's individual part using Python instead of Excel."
   ]
  },
  {
   "cell_type": "code",
   "execution_count": 10,
   "id": "88eb5265-bda7-4c05-84d8-4165d573d8bd",
   "metadata": {},
   "outputs": [],
   "source": [
    "# Importing packages\n",
    "import numpy as np\n",
    "import pandas as pd\n",
    "import matplotlib.pyplot as plt"
   ]
  },
  {
   "cell_type": "code",
   "execution_count": 11,
   "id": "99accfd1-8bf4-4e68-9836-ca9de3cf2dc4",
   "metadata": {},
   "outputs": [],
   "source": [
    "# Importing the data set the individual part of the project is based on\n",
    "df=pd.read_excel(\"p1-internet-users-in-canada.xlsx\")"
   ]
  },
  {
   "cell_type": "code",
   "execution_count": 12,
   "id": "b39cbf41-e783-4053-a542-e2bb34007f0d",
   "metadata": {},
   "outputs": [
    {
     "data": {
      "text/html": [
       "<div>\n",
       "<style scoped>\n",
       "    .dataframe tbody tr th:only-of-type {\n",
       "        vertical-align: middle;\n",
       "    }\n",
       "\n",
       "    .dataframe tbody tr th {\n",
       "        vertical-align: top;\n",
       "    }\n",
       "\n",
       "    .dataframe thead th {\n",
       "        text-align: right;\n",
       "    }\n",
       "</style>\n",
       "<table border=\"1\" class=\"dataframe\">\n",
       "  <thead>\n",
       "    <tr style=\"text-align: right;\">\n",
       "      <th></th>\n",
       "      <th>Year</th>\n",
       "      <th>Percentage of Internet Users in Canada</th>\n",
       "    </tr>\n",
       "  </thead>\n",
       "  <tbody>\n",
       "    <tr>\n",
       "      <th>0</th>\n",
       "      <td>1990</td>\n",
       "      <td>0.361000</td>\n",
       "    </tr>\n",
       "    <tr>\n",
       "      <th>1</th>\n",
       "      <td>1991</td>\n",
       "      <td>0.570386</td>\n",
       "    </tr>\n",
       "    <tr>\n",
       "      <th>2</th>\n",
       "      <td>1992</td>\n",
       "      <td>0.915981</td>\n",
       "    </tr>\n",
       "    <tr>\n",
       "      <th>3</th>\n",
       "      <td>1993</td>\n",
       "      <td>1.184558</td>\n",
       "    </tr>\n",
       "    <tr>\n",
       "      <th>4</th>\n",
       "      <td>1994</td>\n",
       "      <td>2.378694</td>\n",
       "    </tr>\n",
       "    <tr>\n",
       "      <th>5</th>\n",
       "      <td>1995</td>\n",
       "      <td>4.163525</td>\n",
       "    </tr>\n",
       "    <tr>\n",
       "      <th>6</th>\n",
       "      <td>1996</td>\n",
       "      <td>6.760240</td>\n",
       "    </tr>\n",
       "    <tr>\n",
       "      <th>7</th>\n",
       "      <td>1997</td>\n",
       "      <td>15.072357</td>\n",
       "    </tr>\n",
       "    <tr>\n",
       "      <th>8</th>\n",
       "      <td>1998</td>\n",
       "      <td>24.897400</td>\n",
       "    </tr>\n",
       "    <tr>\n",
       "      <th>9</th>\n",
       "      <td>1999</td>\n",
       "      <td>36.186440</td>\n",
       "    </tr>\n",
       "  </tbody>\n",
       "</table>\n",
       "</div>"
      ],
      "text/plain": [
       "   Year  Percentage of Internet Users in Canada\n",
       "0  1990                                0.361000\n",
       "1  1991                                0.570386\n",
       "2  1992                                0.915981\n",
       "3  1993                                1.184558\n",
       "4  1994                                2.378694\n",
       "5  1995                                4.163525\n",
       "6  1996                                6.760240\n",
       "7  1997                               15.072357\n",
       "8  1998                               24.897400\n",
       "9  1999                               36.186440"
      ]
     },
     "execution_count": 12,
     "metadata": {},
     "output_type": "execute_result"
    }
   ],
   "source": [
    "# Print the first 10 rows to preview data set\n",
    "df.head(10)"
   ]
  },
  {
   "cell_type": "code",
   "execution_count": 13,
   "id": "a48b4cee-14aa-4b7a-9ad4-7a33bb004d92",
   "metadata": {},
   "outputs": [],
   "source": [
    "# Converting the data frame into an array\n",
    "data_array = df.values"
   ]
  },
  {
   "cell_type": "code",
   "execution_count": 14,
   "id": "3b4736a8-4203-4b62-b06f-b2b9f8c9c4ae",
   "metadata": {},
   "outputs": [
    {
     "name": "stdout",
     "output_type": "stream",
     "text": [
      "input values (years):  [1990. 1991. 1992. 1993. 1994. 1995. 1996. 1997. 1998. 1999. 2000. 2001.\n",
      " 2002. 2003. 2004. 2005. 2006. 2007. 2008. 2009. 2010. 2011. 2012. 2013.\n",
      " 2014. 2015. 2016. 2017. 2018. 2019. 2020.]\n",
      "output values (% of users):  [ 0.3609997   0.57038593  0.91598104  1.18455751  2.37869385  4.16352525\n",
      "  6.76023965 15.07235736 24.8974003  36.18644004 51.3        60.2\n",
      " 61.59329927 64.2        65.95596346 71.66       72.4        73.2\n",
      " 76.7        80.3        80.3        83.         83.         85.8\n",
      " 87.12       90.         91.16       92.70137191 94.64       96.5\n",
      " 96.97      ]\n"
     ]
    }
   ],
   "source": [
    "# Creating lists of input and output values from the data set\n",
    "x=np.transpose(data_array)[0]\n",
    "y=np.transpose(data_array)[1]\n",
    "print(\"Input values (years): \", x)\n",
    "print(\"Output values (% of users): \", y)"
   ]
  },
  {
   "cell_type": "markdown",
   "id": "743497b9-869b-48db-a7dc-a53ab5b8fae1",
   "metadata": {},
   "source": [
    "<span style=\"color:blue\"> <b> Computational learning goals: </b>\n",
    "</span>\n",
    "<ul style=\"color:blue\"><li> Import a data set from a csv/excel file.</li>\n",
    "    <li> Identify/Extract the data set's lists of input and output values from the data frame.</li>\n",
    "    <li> Assign variable names to numbers, lists, arrays, etc.</li>\n",
    "    <li> Display numbers, lists, arrays, text, etc. using print statements.</li>\n",
    "</ul>\n",
    "<span style=\"color:blue\"> <b> Notes: </b> </span>\n",
    "<ul style=\"color:blue\">\n",
    "<li> Converting the data frame into other data types (lists, arrays,...?) will (I think) make accessing/analyzing the data more student-friendly... It needs to be simple for them to figure out how to access the data.</li>\n",
    "<li> Students probably don't need to know the details of what the code's doing here. Understanding the inputs and outputs of this process (and how to manipulate it for data sets with additional columns) is probably fine here.</li></ul>\n",
    "<span style=\"color:blue\"> <b> To do: </b> Look into whether this is the \"best\" way to do this for MAT133 students... Will this work for all the data sets they will explore in the course? Will this limit their ability to explore data sets in important ways?\n",
    "</span>\n"
   ]
  },
  {
   "cell_type": "markdown",
   "id": "e51d1cc8-e2eb-4937-8308-738e4c755aba",
   "metadata": {},
   "source": [
    "### Q1. Make a scatter plot of the data set."
   ]
  },
  {
   "cell_type": "code",
   "execution_count": 16,
   "id": "88a57f0e-3f34-4a12-9bd0-0fbc76cd7819",
   "metadata": {},
   "outputs": [
    {
     "data": {
      "image/png": "[encoded data removed]",
      "text/plain": [
       "<Figure size 640x480 with 1 Axes>"
      ]
     },
     "metadata": {},
     "output_type": "display_data"
    }
   ],
   "source": [
    "plt.scatter(x,y)\n",
    "plt.title(\"Percentage of internet users in Canada vs. Time\")\n",
    "plt.xlabel(\"Time (years)\")\n",
    "plt.ylabel(\"Percentage of internet users in Canada (%)\")\n",
    "plt.show()"
   ]
  },
  {
   "cell_type": "markdown",
   "id": "285aa61d-e53a-4b82-9e89-7a4c05061ff8",
   "metadata": {},
   "source": [
    "<span style=\"color:blue\"> <b> Computational learning goals:</b>\n",
    "<ul style=\"color:blue\"><li> Create a scatter plot using lists of a data sets input and output values.</li>\n",
    "    <li> Customize plots by adjusting colours and/or marker styles, and by adding titles, axis labels, and/or legends.</li>\n",
    "    <li> If/when appropriate, display plots of multiple data sets on the same axes. Clearly distinguish distinct plots by adjusting colours, adjusting marker styles and/or including legends. </li>\n",
    "</ul>\n",
    "</span>\n",
    "\n",
    "<span style=\"color:blue\"> <b> Notes:</b>\n",
    "<ul style=\"color:blue\"><li> Plotting multiple data sets on the same axes isn't (currently) required in the individual part of the project, but could be useful for group component for groups looking to compare rates of change of multiple quantities over the same time period.\n",
    "</li>\n",
    "</span>"
   ]
  },
  {
   "cell_type": "markdown",
   "id": "593533fa-b4b4-4c02-afb3-53120b026286",
   "metadata": {},
   "source": [
    "### Q2. In the 5-year period from 1995 to 2000, at what rate was the percentage of internet users in Canada growing, on average? Please show your calculation and write your answer in the box. Round to 2 decimal places."
   ]
  },
  {
   "cell_type": "code",
   "execution_count": 21,
   "id": "0e9ce905-f8f5-46b7-955b-6ca079204601",
   "metadata": {},
   "outputs": [
    {
     "name": "stdout",
     "output_type": "stream",
     "text": [
      "1995.0 2000.0\n"
     ]
    }
   ],
   "source": [
    "# Checking array indicies corresponding to years of interest (1995 and 2000)\n",
    "print(x[5],x[10])"
   ]
  },
  {
   "cell_type": "code",
   "execution_count": 22,
   "id": "2da7266e-7505-4f8e-b95b-dfe06cc99c62",
   "metadata": {},
   "outputs": [
    {
     "name": "stdout",
     "output_type": "stream",
     "text": [
      "9.427294949399998\n",
      "9.43\n"
     ]
    }
   ],
   "source": [
    "# Calculating average rate of change on interest\n",
    "aroc1 = (y[10]-y[5])/(x[10]-x[5])\n",
    "print(aroc1)\n",
    "# Rounding to two decimal places\n",
    "aroc1_rnd = np.round(aroc1,2)\n",
    "print(aroc1_rnd)"
   ]
  },
  {
   "cell_type": "code",
   "execution_count": 23,
   "id": "56404c2c-0171-4087-a27c-3f700ab2c2a9",
   "metadata": {},
   "outputs": [
    {
     "data": {
      "text/plain": [
       "'On average, the percentage on internet users in Canada increased at a rate of 9.43 %/year in the 5-year period from 1995-2000.'"
      ]
     },
     "execution_count": 23,
     "metadata": {},
     "output_type": "execute_result"
    }
   ],
   "source": [
    "f\"On average, the percentage on internet users in Canada increased at a rate of {aroc1_rnd} %/year in the 5-year period from 1995-2000.\""
   ]
  },
  {
   "cell_type": "markdown",
   "id": "f69b58d6-c5a7-4a50-b2bd-47b9c738296a",
   "metadata": {},
   "source": [
    "<span style=\"color:blue\"> <b> Computational learning goals:</b>\n",
    "<ul style=\"color:blue\"><li> Extract specific values from a list using the list's index.</li>\n",
    "<li> Calculate expressions involving one or more values from a list using the list's index.</li>\n",
    "<li> Round floating point numbers to a specified number of digits (?).</li></ul>\n",
    "</span>\n",
    "\n",
    "<span style=\"color:blue\"> <b> Notes:</b>\n",
    "<ul style=\"color:blue\"><li> The indexing will likely be confusing/challenging for some students, but it's probably worth it to make them engage with it here as we will see indexing multiple times in the course (payment sequences, Riemann sums).</li>\n",
    "<li> Here, I've imagined a student mentally calculating the index and then checking their calculation by printing the corresponding input values, but it might be good for students to have multiple simple ways of calculating/checking the indices (e.g. referring back to the printout of the rows of the data table).</li>\n",
    "</span>"
   ]
  },
  {
   "cell_type": "markdown",
   "id": "8a783cdb-5593-47d1-b620-385d7aeb8b12",
   "metadata": {},
   "source": [
    "### Q3. In the 15-year period from 2005 to 2020, at what rate was the percentage of internet users in Canada growing, on average? Please show your calculation and write your answer in the box. Round to 2 decimal places."
   ]
  },
  {
   "cell_type": "code",
   "execution_count": 51,
   "id": "17528c58-9cbe-4f25-9084-2d4120b18c9a",
   "metadata": {},
   "outputs": [
    {
     "name": "stdout",
     "output_type": "stream",
     "text": [
      "2005.0 2020.0\n"
     ]
    }
   ],
   "source": [
    "# Checking array indicies corresponding to years of interest (2005 and 2020)\n",
    "print(x[15],x[30])"
   ]
  },
  {
   "cell_type": "code",
   "execution_count": 34,
   "id": "3f82d806-fc7c-4ba7-92a4-c634c3794d7b",
   "metadata": {},
   "outputs": [
    {
     "name": "stdout",
     "output_type": "stream",
     "text": [
      "1.6873333333333336\n",
      "1.69\n"
     ]
    }
   ],
   "source": [
    "# Calculating average rate of change of interest\n",
    "aroc2 = (y[30]-y[15])/(x[30]-x[15])\n",
    "print(aroc2)\n",
    "# Rounding to two decimal places\n",
    "aroc2_rnd = np.round(aroc2,2)\n",
    "print(aroc2_rnd)"
   ]
  },
  {
   "cell_type": "code",
   "execution_count": 35,
   "id": "4d3e69f6-ad90-455c-8fc3-e5f556fb5c84",
   "metadata": {},
   "outputs": [
    {
     "data": {
      "text/plain": [
       "'On average, the percentage on internet users in Canada increased at a rate of 1.69 %/year in the 15-year period from 2005-2020.'"
      ]
     },
     "execution_count": 35,
     "metadata": {},
     "output_type": "execute_result"
    }
   ],
   "source": [
    "f\"On average, the percentage on internet users in Canada increased at a rate of {aroc2_rnd} %/year in the 15-year period from 2005-2020.\""
   ]
  },
  {
   "cell_type": "markdown",
   "id": "aeaabcc5-552d-4fae-b2bb-d271cf8b3a0f",
   "metadata": {},
   "source": [
    "### Q5(a). Estimate the instantaneous rate of change of the percentage of internet users in Canada in 1990 by using a step forward (or the “slope to the right”). Please round to two decimal places."
   ]
  },
  {
   "cell_type": "code",
   "execution_count": 36,
   "id": "2912f168-a51d-44a5-98a1-1a13a8a7f4a7",
   "metadata": {},
   "outputs": [
    {
     "name": "stdout",
     "output_type": "stream",
     "text": [
      "1990.0 1991.0\n"
     ]
    }
   ],
   "source": [
    "# Checking array indicies corresponding to the \"current\" year (1990) and the \"forward\" year (1991)\n",
    "print(x[0],x[1])"
   ]
  },
  {
   "cell_type": "code",
   "execution_count": 38,
   "id": "dae48419-a34e-41ec-90c6-56c8e8cf6b63",
   "metadata": {},
   "outputs": [
    {
     "name": "stdout",
     "output_type": "stream",
     "text": [
      "0.20938622500000004\n",
      "0.21\n"
     ]
    }
   ],
   "source": [
    "# Estimating instantaneous rate of change of interest\n",
    "est1 = (y[1]-y[0])/(x[1]-x[0])\n",
    "print(est1)\n",
    "# Rounding to two decimal places\n",
    "est1_rnd = np.round(est1,2)\n",
    "print(est1_rnd)"
   ]
  },
  {
   "cell_type": "code",
   "execution_count": 39,
   "id": "19de65e5-dcd1-47fa-8408-fd11fae3c951",
   "metadata": {},
   "outputs": [
    {
     "data": {
      "text/plain": [
       "'In 1990, the percentage on internet users in Canada was increasing at a rate of about 0.21 %/year.'"
      ]
     },
     "execution_count": 39,
     "metadata": {},
     "output_type": "execute_result"
    }
   ],
   "source": [
    "f\"In 1990, the percentage on internet users in Canada was increasing at a rate of about {est1_rnd} %/year.\""
   ]
  },
  {
   "cell_type": "markdown",
   "id": "5ffb813c-7d5e-4143-9904-85d0fbc758a7",
   "metadata": {},
   "source": [
    "### Q5(b). Construct a table of estimated values for the instantaneous rates of change. Interpret the value you find for 1998, in language that is accessible to the general public.\n",
    "\n",
    "<span style=\"color:red\"> Find other ways of doing this that avoids loops etc. So far, this just generates a list (rather than a table), but whatever. </span>"
   ]
  },
  {
   "cell_type": "code",
   "execution_count": 46,
   "id": "8237cee3-0c9a-437e-8f9b-e4ec08ac6e1d",
   "metadata": {},
   "outputs": [
    {
     "name": "stdout",
     "output_type": "stream",
     "text": [
      "[1990. 1991. 1992. 1993. 1994. 1995. 1996. 1997. 1998. 1999. 2000. 2001.\n",
      " 2002. 2003. 2004. 2005. 2006. 2007. 2008. 2009. 2010. 2011. 2012. 2013.\n",
      " 2014. 2015. 2016. 2017. 2018. 2019.]\n",
      "[1991. 1992. 1993. 1994. 1995. 1996. 1997. 1998. 1999. 2000. 2001. 2002.\n",
      " 2003. 2004. 2005. 2006. 2007. 2008. 2009. 2010. 2011. 2012. 2013. 2014.\n",
      " 2015. 2016. 2017. 2018. 2019. 2020.]\n"
     ]
    }
   ],
   "source": [
    "# Making lists of \"current\" times and \"forward\" times  \n",
    "x_current = x[:-1]\n",
    "x_forward = x[1:]\n",
    "print(x_current)\n",
    "print(x_forward)"
   ]
  },
  {
   "cell_type": "code",
   "execution_count": 47,
   "id": "4d663aaf-7cfc-44bf-943d-ab19c0242a7e",
   "metadata": {},
   "outputs": [
    {
     "name": "stdout",
     "output_type": "stream",
     "text": [
      "[ 0.3609997   0.57038593  0.91598104  1.18455751  2.37869385  4.16352525\n",
      "  6.76023965 15.07235736 24.8974003  36.18644004 51.3        60.2\n",
      " 61.59329927 64.2        65.95596346 71.66       72.4        73.2\n",
      " 76.7        80.3        80.3        83.         83.         85.8\n",
      " 87.12       90.         91.16       92.70137191 94.64       96.5       ]\n",
      "[ 0.57038593  0.91598104  1.18455751  2.37869385  4.16352525  6.76023965\n",
      " 15.07235736 24.8974003  36.18644004 51.3        60.2        61.59329927\n",
      " 64.2        65.95596346 71.66       72.4        73.2        76.7\n",
      " 80.3        80.3        83.         83.         85.8        87.12\n",
      " 90.         91.16       92.70137191 94.64       96.5        96.97      ]\n"
     ]
    }
   ],
   "source": [
    "# Making corresponding lists of y-values  \n",
    "y_current = y[:-1]\n",
    "y_forward = y[1:]\n",
    "print(y_current)\n",
    "print(y_forward)"
   ]
  },
  {
   "cell_type": "code",
   "execution_count": 48,
   "id": "f7eaffc5-146c-44a8-84c0-80a20cb05336",
   "metadata": {},
   "outputs": [
    {
     "name": "stdout",
     "output_type": "stream",
     "text": [
      "[ 0.20938623  0.34559511  0.26857647  1.19413634  1.7848314   2.5967144\n",
      "  8.31211771  9.82504294 11.28903974 15.11355996  8.9         1.39329927\n",
      "  2.60670073  1.75596346  5.70403654  0.74        0.8         3.5\n",
      "  3.6         0.          2.7         0.          2.8         1.32\n",
      "  2.88        1.16        1.54137191  1.93862809  1.86        0.47      ]\n"
     ]
    }
   ],
   "source": [
    "estimates = (y_forward-y_current)/(x_forward-x_current)\n",
    "print(estimates)"
   ]
  },
  {
   "cell_type": "code",
   "execution_count": 52,
   "id": "4f738de3-8986-41ce-83e3-67961527f01c",
   "metadata": {},
   "outputs": [
    {
     "name": "stdout",
     "output_type": "stream",
     "text": [
      "2018.0\n"
     ]
    }
   ],
   "source": [
    "# Checking array index corresponding to year of interest (2018)\n",
    "print(x[28])"
   ]
  },
  {
   "cell_type": "code",
   "execution_count": 54,
   "id": "0db6fa9f-bdbc-46e2-af33-bd56c97a13e3",
   "metadata": {},
   "outputs": [
    {
     "name": "stdout",
     "output_type": "stream",
     "text": [
      "1.86\n"
     ]
    }
   ],
   "source": [
    "# Picking estimate of instantaneous rate of change in 2018 out of list\n",
    "print(np.round(estimates[28],2))"
   ]
  },
  {
   "cell_type": "code",
   "execution_count": 58,
   "id": "61388257-8323-421b-a8e3-8bfeb5e9cb98",
   "metadata": {},
   "outputs": [
    {
     "data": {
      "text/plain": [
       "\"In 2018, the instantaneous rate of change of the percentage of internet users in Canada was about 1.86 %/year. Based on this, we'd expect there to be about 1.86% more internet users in 2019 than in 2018, i.e. we'd expect the percentage of internet users to increase from 94.64% to about 96.5%\""
      ]
     },
     "execution_count": 58,
     "metadata": {},
     "output_type": "execute_result"
    }
   ],
   "source": [
    "f\"In 2018, the instantaneous rate of change of the percentage of internet users in Canada was about {np.round(estimates[28],2)} %/year. Based on this, we'd expect there to be about {np.round(estimates[28],2)}% more internet users in 2019 than in 2018, i.e. we'd expect the percentage of internet users to increase from {y[28]}% to about {np.round(y[28]+estimates[28],2)}%\""
   ]
  },
  {
   "cell_type": "markdown",
   "id": "a6531d14-229e-447f-8645-da7ca7d64b3c",
   "metadata": {},
   "source": [
    "### Q5(c) Based on the data set, what is your best estimate for p′(2020)? Round to two decimal places."
   ]
  },
  {
   "cell_type": "code",
   "execution_count": 61,
   "id": "76e6884f-34a4-4970-84f1-2212519ad02a",
   "metadata": {},
   "outputs": [
    {
     "name": "stdout",
     "output_type": "stream",
     "text": [
      "2020.0 2019.0\n"
     ]
    }
   ],
   "source": [
    "# Checking array indices for the \"current\" year (2020) and the \"backward\" year (2019)\n",
    "print(x[30],x[29])"
   ]
  },
  {
   "cell_type": "code",
   "execution_count": 63,
   "id": "80d7cf36-30f8-4d6c-b0ba-f57991259d53",
   "metadata": {},
   "outputs": [
    {
     "name": "stdout",
     "output_type": "stream",
     "text": [
      "0.47\n"
     ]
    }
   ],
   "source": [
    "# Estimating the derivative at 2020 using the step backward (or \"slope to the left\") method\n",
    "est2 = (y[30]-y[29])/(x[30]-x[29])\n",
    "print(np.round(est2,2))"
   ]
  },
  {
   "cell_type": "code",
   "execution_count": 64,
   "id": "c44b66eb-9ea4-450b-9acb-f70254bc95d6",
   "metadata": {},
   "outputs": [
    {
     "data": {
      "text/plain": [
       "'In 2020, the instantaneous rate of change of the percentage of internet users in Canada was about 0.47 %/year.'"
      ]
     },
     "execution_count": 64,
     "metadata": {},
     "output_type": "execute_result"
    }
   ],
   "source": [
    "f\"In 2020, the instantaneous rate of change of the percentage of internet users in Canada was about {np.round(est2,2)} %/year.\""
   ]
  },
  {
   "cell_type": "markdown",
   "id": "43e0c815-67a9-4f46-ad17-08259b9e2c3f",
   "metadata": {},
   "source": [
    "### Q6. Make a scatter plot of the derivative (approximately). According to this graph, in which year was the percentage of internet users growing most quickly?\n",
    "\n",
    "<span style=\"color:red\"> Add last data point to list... </span>"
   ]
  },
  {
   "cell_type": "code",
   "execution_count": 66,
   "id": "80e10755-61e0-43cd-99cb-ac422c5eab4c",
   "metadata": {},
   "outputs": [
    {
     "data": {
      "image/png": "[encoded data removed]",
      "text/plain": [
       "<Figure size 640x480 with 1 Axes>"
      ]
     },
     "metadata": {},
     "output_type": "display_data"
    }
   ],
   "source": [
    "plt.scatter(x[:-1],estimates)\n",
    "plt.title(\"Rate of change of percentage of internet users in Canada vs. Time\")\n",
    "plt.xlabel(\"Time (years)\")\n",
    "plt.ylabel(\"Rate of change of percentage of internet users in Canada (%/yr)\")\n",
    "plt.show()"
   ]
  },
  {
   "cell_type": "code",
   "execution_count": 68,
   "id": "f6a98f4a-776e-409c-bb93-9f53ab1defb0",
   "metadata": {},
   "outputs": [
    {
     "data": {
      "text/plain": [
       "'Based on the graph, the percentage of internet users was growing most quickly in 1999.'"
      ]
     },
     "execution_count": 68,
     "metadata": {},
     "output_type": "execute_result"
    }
   ],
   "source": [
    "\"Based on the graph, the percentage of internet users was growing most quickly in 1999.\""
   ]
  },
  {
   "cell_type": "markdown",
   "id": "fe7e3b68-37a8-4757-8b16-0a1414a013cb",
   "metadata": {},
   "source": []
  }
 ],
 "metadata": {
  "kernelspec": {
   "display_name": "Python [conda env:base] *",
   "language": "python",
   "name": "conda-base-py"
  },
  "language_info": {
   "codemirror_mode": {
    "name": "ipython",
    "version": 3
   },
   "file_extension": ".py",
   "mimetype": "text/x-python",
   "name": "python",
   "nbconvert_exporter": "python",
   "pygments_lexer": "ipython3",
   "version": "3.11.7"
  }
 },
 "nbformat": 4,
 "nbformat_minor": 5
}
