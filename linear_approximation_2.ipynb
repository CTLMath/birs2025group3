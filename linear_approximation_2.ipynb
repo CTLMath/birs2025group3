{
 "cells": [
  {
   "cell_type": "markdown",
   "id": "6682a550-2010-4c06-9af9-daa6b9bcb47a",
   "metadata": {},
   "source": [
    "# Linear approximation\n",
    "**Big idea:**\n",
    "What a linear approximation is and appreciation of applications of linear approximation. \n",
    "\n",
    "**Learning goals:**\n",
    " * What a linear approximation is and its pictorial understanding.\n",
    " * Introduce an applications of linear approximation when you are given a function.\n",
    " * Applications of a linear approximation when you are not given a function but a table of values (measurements) instead.\n",
    "\n",
    "**Learning plan**\n",
    "* How to define a function as a mathemtical object.\n",
    "* How to approximate derivatives of a function using a quotient difference\n",
    "* Plot functions\n",
    "* Use linear approxination to approximate the values of a function and compare it with the values ofa auilt-in function\n",
    "* Import data and use linear approximation using the imported data to make a prediction.\n",
    "\n",
    "**Note:** We assume that the students are familiar with variables, with basic mathematical functions in Numpy as np.cos,np.sin and their vectorization properties"
   ]
  },
  {
   "cell_type": "markdown",
   "id": "d8710c79-faf5-4307-ae70-d2916d3658a5",
   "metadata": {
    "editable": true,
    "slideshow": {
     "slide_type": ""
    },
    "tags": []
   },
   "source": [
    "# Functions\n",
    "A function is a rule that assocates to each inpout a unique output.\n",
    "\n",
    "Functions can be represented via\n",
    "* formulas\n",
    "* graphs\n",
    "* tables of values\n",
    "* Verbal description\n"
   ]
  },
  {
   "cell_type": "code",
   "execution_count": 94,
   "id": "f2cfe2a1-dda6-4499-8749-e3e02e4e6883",
   "metadata": {},
   "outputs": [
    {
     "name": "stdout",
     "output_type": "stream",
     "text": [
      "2.0\n",
      "5.0\n"
     ]
    }
   ],
   "source": [
    "# To define a function we use a keyword lambda\n",
    "# For example, we want to create a function y=sqrt(x)\n",
    "# General approach: name=lambda x:formula of x\n",
    "import numpy as np\n",
    "f=lambda x:np.sqrt(x)\n",
    "print (f(4)) #Can you guess what the print statement is going to print\n",
    "print(f(25))"
   ]
  },
  {
   "cell_type": "code",
   "execution_count": 95,
   "id": "a3c89e51-24b1-4280-9865-4cccb33a9f81",
   "metadata": {},
   "outputs": [
    {
     "name": "stdout",
     "output_type": "stream",
     "text": [
      "2.0\n",
      "5.0\n"
     ]
    }
   ],
   "source": [
    "#An alternative way to define functions in python we \n",
    "# use the keyword def\n",
    "# General approach : \n",
    "# def name (variable):\n",
    "    # return function of your variable\n",
    "def f(x):\n",
    "    return np.sqrt(x)\n",
    "print(f(4))\n",
    "print(f(25))\n",
    "                         "
   ]
  },
  {
   "cell_type": "markdown",
   "id": "1954c89f-52ed-4b65-a19d-385e4ab50dfa",
   "metadata": {},
   "source": [
    "## Exercise\n",
    "Define a function $y=\\frac{x^3+12.3x^3-100}{\\sin(x)}$\n",
    "in python in both ways introduced above."
   ]
  },
  {
   "cell_type": "markdown",
   "id": "0d5bc97b-6287-4410-9ef2-3825977aedac",
   "metadata": {},
   "source": [
    "# Plotting functions\n",
    "Making a graph of a functions requires us to do two main steps:\n",
    "* Compute for each input the corresponding output and\n",
    "* Plot the corresponding points: `(input,output)`\n",
    "\n",
    "  \n",
    "You will quickly realize that doing these two steps by hand is almost impossible. That's where we need Python. Instead of passing the points `(input, output)` in Python, Python accepts the list of inputs $x=[x_{0},x_{1},\\ldots,x_{n}]$ and the list of outputs $y=[f(x_{0}),f(x_{1}),\\ldots,f(x_{n})]$"
   ]
  },
  {
   "cell_type": "markdown",
   "id": "e84a4a0d-b9fb-423c-9374-8b2281ecda8c",
   "metadata": {},
   "source": [
    "## Exercise\n",
    "Plot the graph of a function $y=\\sqrt{x}$ on $[0,4]$"
   ]
  },
  {
   "cell_type": "code",
   "execution_count": 96,
   "id": "1ed1261e-d910-4afd-a661-f2634e26444e",
   "metadata": {},
   "outputs": [
    {
     "data": {
      "image/png": "[encoded data removed]",
      "text/plain": [
       "<Figure size 640x480 with 1 Axes>"
      ]
     },
     "metadata": {},
     "output_type": "display_data"
    }
   ],
   "source": [
    "import matplotlib.pyplot as plt\n",
    "plt.style.use('ggplot')\n",
    "n=100\n",
    "x=np.linspace(0,4,n)\n",
    "y=f(x)\n",
    "plt.plot(x,y,color='g')\n",
    "plt.title('The graph of $y=x^{1/2}$',color=\"tab:orange\")\n",
    "plt.xlabel('x',color='b')\n",
    "plt.ylabel('y',color='b');"
   ]
  },
  {
   "cell_type": "markdown",
   "id": "b5017ebd-e993-4e9d-9566-0ce1a14efaea",
   "metadata": {},
   "source": [
    "# Derivatives\n",
    "Given a function $y=f(x)$, the ferivative of a function $y=f(x)$ at a point $a$, denoted by $f'(a)$ or $\\frac{dy}{dx}|_{x=a}$ is\n",
    "$$f'(a)=\\lim_{x\\to a}\\frac{f(x)-f(a)}{x-a}$$\n",
    "or equivallently \n",
    "$$f'(a)=\\lim_{h\\to 0}\\frac{f(a+h)-f(a)}{h}$$\n",
    "which is also the same as \n",
    " $$f'(a)=\\lim_{h\\to 0}\\frac{f(a+h)-f(a-h)}{2h}$$\n",
    " Intuitively this means that \n",
    " $$f'(a)\\approx \\frac{f(a+h)-f(a)}{h}$$ for small $h$ \n",
    " or $$f'(a)\\approx\\frac{f(a+h)-f(a-h)}{2h}$$ for small $h$"
   ]
  },
  {
   "cell_type": "markdown",
   "id": "6b1b9b9e-61c8-4bc2-92be-b4d0c4f7b571",
   "metadata": {},
   "source": [
    "## Exercise \n",
    "Define a derivative function of $y=\\sqrt{x}$ in python using a quotient difference. In particular\n",
    "* Assign a derivative function to the variable `dy`\n",
    "* Your function must take for arguments: the point $x$ and the step $h$\n",
    "* Print dy(4) and compare this result to $f'(4)$ which come from theory."
   ]
  },
  {
   "cell_type": "code",
   "execution_count": 97,
   "id": "75ebb445-3632-476e-a30c-e624d74226db",
   "metadata": {},
   "outputs": [
    {
     "name": "stdout",
     "output_type": "stream",
     "text": [
      "0.2484567313165842\n"
     ]
    }
   ],
   "source": [
    "dy=lambda x,h:(f(x+h)-f(x))/(h)\n",
    "print(dy(4,0.1))"
   ]
  },
  {
   "cell_type": "markdown",
   "id": "69535a60-808a-4e62-a316-82daac43a563",
   "metadata": {},
   "source": [
    "## Exercise \n",
    " \n",
    " * What would you do to improve the above estimate?\n",
    " * Define a derivative function in python using $$f'(a)\\approx\\frac{f(a+h)-f(a-h)}{2h}$$ for small $h$. Assign this function in `dy_alter`. Then compute `dy_alter(4,0.1)`"
   ]
  },
  {
   "cell_type": "markdown",
   "id": "45e0d428-4d1c-46d7-9839-cb1551f8b06f",
   "metadata": {},
   "source": [
    "# Linear approximation\n",
    "**Big Picture:** $f$ looks like a tangent line near a point $x=a$ which means\n",
    " $$f(x)\\approx f(a)+f'(a)(x-a)$$\n",
    " We can use a linear approximations to make predictions using real word data\n",
    " \n"
   ]
  },
  {
   "cell_type": "markdown",
   "id": "c9f075fc-3372-4f2d-9c3f-a56b8b72e0c4",
   "metadata": {},
   "source": [
    "## Exercise \n",
    "* Define a function of the tangent line of $y=\\sqrt{x}$ at $x=1$ in python. Assign this function to a variable `tang_line`\n",
    "* * Plot the graph of $y=\\sqrt{x}$ and its tangent line at $x=1$ on the same axis.\n",
    "\n",
    "**Note:** The tangent line of $y=\\sqrt{x}$ at $x=1$ is given by \n",
    "$y=1+\\frac{1}{2}(x-1)$"
   ]
  },
  {
   "cell_type": "code",
   "execution_count": 40,
   "id": "e6ed2e66-bfdd-4570-a8f8-7361bc5eaf4e",
   "metadata": {},
   "outputs": [
    {
     "data": {
      "image/png": "[encoded data removed]",
      "text/plain": [
       "<Figure size 640x480 with 1 Axes>"
      ]
     },
     "metadata": {},
     "output_type": "display_data"
    }
   ],
   "source": [
    "tang_line=lambda x: 1+1/(2)*(x-1)\n",
    "n=100\n",
    "x=np.linspace(0,4,n)\n",
    "y1=f(x)\n",
    "y2=tang_line(x)\n",
    "\n",
    "plt.plot(x,y1,color='g',label=\"$y=x^{1/2}$\")\n",
    "plt.plot(x,y2,color='r',label='Tangent line')\n",
    "plt.title('The graph of $y=x^{1/2}$ and its tangent line',color=\"tab:orange\")\n",
    "plt.legend()\n",
    "plt.xlabel('x',color='b')\n",
    "plt.ylabel('y',color='b');\n"
   ]
  },
  {
   "cell_type": "markdown",
   "id": "5cf54cbe-4a99-4738-8049-9ebdc0aea29f",
   "metadata": {},
   "source": [
    "## Exercise\n",
    " \n",
    " * Estimate the value of $\\sqrt{1.3}$ using a linear approximation at $x=a$ and assign it to the variable `estimate `\n",
    " * Compare your estimate to the value produced by the Python built-in function. Assign the value of built-in function to the variable `value` "
   ]
  },
  {
   "cell_type": "code",
   "execution_count": 41,
   "id": "69f1deff-5c22-4175-902a-fd39336fe9a0",
   "metadata": {},
   "outputs": [
    {
     "name": "stdout",
     "output_type": "stream",
     "text": [
      "Estimate via a linear approximation  1.15\n",
      "The value of built-in function  1.140175425099138\n"
     ]
    }
   ],
   "source": [
    "estimate=tang_line(1.3)\n",
    "value=np.sqrt(1.3)\n",
    "print('Estimate via a linear approximation ',estimate)\n",
    "print('The value of built-in function ',value)"
   ]
  },
  {
   "cell_type": "markdown",
   "id": "0b5c1e44-0bd4-486d-ae18-d48c78d73618",
   "metadata": {},
   "source": [
    "## Exercise\n",
    "\n",
    "* Read the data from the excel file. Assign the data in variable `data`\n",
    "* How many records (rows) does the above table have? _Hint: Use the command_ `data.shape`\n",
    "* How many columns (features) does the above table have?\n",
    "* What each feature describes?\n",
    "* Access all the data in 'Percentage of Internet Users in Canada' column\n",
    "* Does the number of Internet users increase as the time goes by?\n"
   ]
  },
  {
   "cell_type": "code",
   "execution_count": 47,
   "id": "ec4361be-2f5e-479d-afc9-3a534950a27d",
   "metadata": {
    "editable": true,
    "scrolled": true,
    "slideshow": {
     "slide_type": ""
    },
    "tags": []
   },
   "outputs": [
    {
     "data": {
      "text/html": [
       "<div>\n",
       "<style scoped>\n",
       "    .dataframe tbody tr th:only-of-type {\n",
       "        vertical-align: middle;\n",
       "    }\n",
       "\n",
       "    .dataframe tbody tr th {\n",
       "        vertical-align: top;\n",
       "    }\n",
       "\n",
       "    .dataframe thead th {\n",
       "        text-align: right;\n",
       "    }\n",
       "</style>\n",
       "<table border=\"1\" class=\"dataframe\">\n",
       "  <thead>\n",
       "    <tr style=\"text-align: right;\">\n",
       "      <th></th>\n",
       "      <th>Year</th>\n",
       "      <th>Percentage of Internet Users in Canada</th>\n",
       "    </tr>\n",
       "  </thead>\n",
       "  <tbody>\n",
       "    <tr>\n",
       "      <th>0</th>\n",
       "      <td>1990</td>\n",
       "      <td>0.361000</td>\n",
       "    </tr>\n",
       "    <tr>\n",
       "      <th>1</th>\n",
       "      <td>1991</td>\n",
       "      <td>0.570386</td>\n",
       "    </tr>\n",
       "    <tr>\n",
       "      <th>2</th>\n",
       "      <td>1992</td>\n",
       "      <td>0.915981</td>\n",
       "    </tr>\n",
       "    <tr>\n",
       "      <th>3</th>\n",
       "      <td>1993</td>\n",
       "      <td>1.184558</td>\n",
       "    </tr>\n",
       "    <tr>\n",
       "      <th>4</th>\n",
       "      <td>1994</td>\n",
       "      <td>2.378694</td>\n",
       "    </tr>\n",
       "    <tr>\n",
       "      <th>5</th>\n",
       "      <td>1995</td>\n",
       "      <td>4.163525</td>\n",
       "    </tr>\n",
       "    <tr>\n",
       "      <th>6</th>\n",
       "      <td>1996</td>\n",
       "      <td>6.760240</td>\n",
       "    </tr>\n",
       "    <tr>\n",
       "      <th>7</th>\n",
       "      <td>1997</td>\n",
       "      <td>15.072357</td>\n",
       "    </tr>\n",
       "    <tr>\n",
       "      <th>8</th>\n",
       "      <td>1998</td>\n",
       "      <td>24.897400</td>\n",
       "    </tr>\n",
       "    <tr>\n",
       "      <th>9</th>\n",
       "      <td>1999</td>\n",
       "      <td>36.186440</td>\n",
       "    </tr>\n",
       "    <tr>\n",
       "      <th>10</th>\n",
       "      <td>2000</td>\n",
       "      <td>51.300000</td>\n",
       "    </tr>\n",
       "    <tr>\n",
       "      <th>11</th>\n",
       "      <td>2001</td>\n",
       "      <td>60.200000</td>\n",
       "    </tr>\n",
       "    <tr>\n",
       "      <th>12</th>\n",
       "      <td>2002</td>\n",
       "      <td>61.593299</td>\n",
       "    </tr>\n",
       "    <tr>\n",
       "      <th>13</th>\n",
       "      <td>2003</td>\n",
       "      <td>64.200000</td>\n",
       "    </tr>\n",
       "    <tr>\n",
       "      <th>14</th>\n",
       "      <td>2004</td>\n",
       "      <td>65.955963</td>\n",
       "    </tr>\n",
       "    <tr>\n",
       "      <th>15</th>\n",
       "      <td>2005</td>\n",
       "      <td>71.660000</td>\n",
       "    </tr>\n",
       "    <tr>\n",
       "      <th>16</th>\n",
       "      <td>2006</td>\n",
       "      <td>72.400000</td>\n",
       "    </tr>\n",
       "    <tr>\n",
       "      <th>17</th>\n",
       "      <td>2007</td>\n",
       "      <td>73.200000</td>\n",
       "    </tr>\n",
       "    <tr>\n",
       "      <th>18</th>\n",
       "      <td>2008</td>\n",
       "      <td>76.700000</td>\n",
       "    </tr>\n",
       "    <tr>\n",
       "      <th>19</th>\n",
       "      <td>2009</td>\n",
       "      <td>80.300000</td>\n",
       "    </tr>\n",
       "    <tr>\n",
       "      <th>20</th>\n",
       "      <td>2010</td>\n",
       "      <td>80.300000</td>\n",
       "    </tr>\n",
       "    <tr>\n",
       "      <th>21</th>\n",
       "      <td>2011</td>\n",
       "      <td>83.000000</td>\n",
       "    </tr>\n",
       "    <tr>\n",
       "      <th>22</th>\n",
       "      <td>2012</td>\n",
       "      <td>83.000000</td>\n",
       "    </tr>\n",
       "    <tr>\n",
       "      <th>23</th>\n",
       "      <td>2013</td>\n",
       "      <td>85.800000</td>\n",
       "    </tr>\n",
       "    <tr>\n",
       "      <th>24</th>\n",
       "      <td>2014</td>\n",
       "      <td>87.120000</td>\n",
       "    </tr>\n",
       "    <tr>\n",
       "      <th>25</th>\n",
       "      <td>2015</td>\n",
       "      <td>90.000000</td>\n",
       "    </tr>\n",
       "    <tr>\n",
       "      <th>26</th>\n",
       "      <td>2016</td>\n",
       "      <td>91.160000</td>\n",
       "    </tr>\n",
       "    <tr>\n",
       "      <th>27</th>\n",
       "      <td>2017</td>\n",
       "      <td>92.701372</td>\n",
       "    </tr>\n",
       "    <tr>\n",
       "      <th>28</th>\n",
       "      <td>2018</td>\n",
       "      <td>94.640000</td>\n",
       "    </tr>\n",
       "    <tr>\n",
       "      <th>29</th>\n",
       "      <td>2019</td>\n",
       "      <td>96.500000</td>\n",
       "    </tr>\n",
       "    <tr>\n",
       "      <th>30</th>\n",
       "      <td>2020</td>\n",
       "      <td>96.970000</td>\n",
       "    </tr>\n",
       "  </tbody>\n",
       "</table>\n",
       "</div>"
      ],
      "text/plain": [
       "    Year  Percentage of Internet Users in Canada\n",
       "0   1990                                0.361000\n",
       "1   1991                                0.570386\n",
       "2   1992                                0.915981\n",
       "3   1993                                1.184558\n",
       "4   1994                                2.378694\n",
       "5   1995                                4.163525\n",
       "6   1996                                6.760240\n",
       "7   1997                               15.072357\n",
       "8   1998                               24.897400\n",
       "9   1999                               36.186440\n",
       "10  2000                               51.300000\n",
       "11  2001                               60.200000\n",
       "12  2002                               61.593299\n",
       "13  2003                               64.200000\n",
       "14  2004                               65.955963\n",
       "15  2005                               71.660000\n",
       "16  2006                               72.400000\n",
       "17  2007                               73.200000\n",
       "18  2008                               76.700000\n",
       "19  2009                               80.300000\n",
       "20  2010                               80.300000\n",
       "21  2011                               83.000000\n",
       "22  2012                               83.000000\n",
       "23  2013                               85.800000\n",
       "24  2014                               87.120000\n",
       "25  2015                               90.000000\n",
       "26  2016                               91.160000\n",
       "27  2017                               92.701372\n",
       "28  2018                               94.640000\n",
       "29  2019                               96.500000\n",
       "30  2020                               96.970000"
      ]
     },
     "execution_count": 47,
     "metadata": {},
     "output_type": "execute_result"
    }
   ],
   "source": [
    "# Read data and print th first 5 rows\n",
    "import pandas as pd\n",
    "path=\"p1-internet-users-in-canada.xlsx\"\n",
    "data=pd.read_excel(path)\n",
    "#print the first 5 rows\n",
    "data\n"
   ]
  },
  {
   "cell_type": "code",
   "execution_count": 43,
   "id": "acf836d5-519b-4bd4-b144-86d503660981",
   "metadata": {},
   "outputs": [
    {
     "name": "stdout",
     "output_type": "stream",
     "text": [
      "Number of rows 31\n",
      "Number of columns 2\n"
     ]
    }
   ],
   "source": [
    "print('Number of rows',data.shape[0])\n",
    "print('Number of columns',data.shape[1])\n"
   ]
  },
  {
   "cell_type": "code",
   "execution_count": 44,
   "id": "49b9ac00-cce0-4439-884b-2a29848bd15f",
   "metadata": {},
   "outputs": [
    {
     "data": {
      "text/plain": [
       "0      0.361000\n",
       "1      0.570386\n",
       "2      0.915981\n",
       "3      1.184558\n",
       "4      2.378694\n",
       "5      4.163525\n",
       "6      6.760240\n",
       "7     15.072357\n",
       "8     24.897400\n",
       "9     36.186440\n",
       "10    51.300000\n",
       "11    60.200000\n",
       "12    61.593299\n",
       "13    64.200000\n",
       "14    65.955963\n",
       "15    71.660000\n",
       "16    72.400000\n",
       "17    73.200000\n",
       "18    76.700000\n",
       "19    80.300000\n",
       "20    80.300000\n",
       "21    83.000000\n",
       "22    83.000000\n",
       "23    85.800000\n",
       "24    87.120000\n",
       "25    90.000000\n",
       "26    91.160000\n",
       "27    92.701372\n",
       "28    94.640000\n",
       "29    96.500000\n",
       "30    96.970000\n",
       "Name: Percentage of Internet Users in Canada, dtype: float64"
      ]
     },
     "execution_count": 44,
     "metadata": {},
     "output_type": "execute_result"
    }
   ],
   "source": [
    "#All the data in Percentage of Internet Users in Canada column\n",
    "data['Percentage of Internet Users in Canada']"
   ]
  },
  {
   "cell_type": "code",
   "execution_count": 48,
   "id": "3cdbffc8-9868-499b-9eab-ee7325659a71",
   "metadata": {},
   "outputs": [
    {
     "data": {
      "image/png": "[encoded data removed]",
      "text/plain": [
       "<Figure size 640x480 with 1 Axes>"
      ]
     },
     "metadata": {},
     "output_type": "display_data"
    }
   ],
   "source": [
    "\n",
    "plt.plot(data['Year'],\n",
    "         data['Percentage of Internet Users in Canada'],\n",
    "         color='g',\n",
    "        marker=\"*\")\n",
    "plt.title('Number of Internet users thrughout the years',color='tab:orange')\n",
    "plt.xlabel('Year',color='b')\n",
    "plt.ylabel('Number of internet users',color='b');"
   ]
  },
  {
   "cell_type": "markdown",
   "id": "861edb73-8a41-427e-b388-293cc265d2ec",
   "metadata": {},
   "source": [
    "**Note:**\n",
    "To access the number of users at a specific year, it would be useful to reindex our table. In other words we want to use the values of 'Year' for our indices so that we can basically say: data[2000] to get the number of users in 2000 or more precisely we will use data.loc[2000,'Percentage of Internet Users in Canada']"
   ]
  },
  {
   "cell_type": "code",
   "execution_count": 46,
   "id": "66160e76-1072-479a-aba0-6c700960f7d2",
   "metadata": {},
   "outputs": [
    {
     "data": {
      "text/html": [
       "<div>\n",
       "<style scoped>\n",
       "    .dataframe tbody tr th:only-of-type {\n",
       "        vertical-align: middle;\n",
       "    }\n",
       "\n",
       "    .dataframe tbody tr th {\n",
       "        vertical-align: top;\n",
       "    }\n",
       "\n",
       "    .dataframe thead th {\n",
       "        text-align: right;\n",
       "    }\n",
       "</style>\n",
       "<table border=\"1\" class=\"dataframe\">\n",
       "  <thead>\n",
       "    <tr style=\"text-align: right;\">\n",
       "      <th></th>\n",
       "      <th>Percentage of Internet Users in Canada</th>\n",
       "    </tr>\n",
       "    <tr>\n",
       "      <th>Year</th>\n",
       "      <th></th>\n",
       "    </tr>\n",
       "  </thead>\n",
       "  <tbody>\n",
       "    <tr>\n",
       "      <th>1990</th>\n",
       "      <td>0.361000</td>\n",
       "    </tr>\n",
       "    <tr>\n",
       "      <th>1991</th>\n",
       "      <td>0.570386</td>\n",
       "    </tr>\n",
       "    <tr>\n",
       "      <th>1992</th>\n",
       "      <td>0.915981</td>\n",
       "    </tr>\n",
       "    <tr>\n",
       "      <th>1993</th>\n",
       "      <td>1.184558</td>\n",
       "    </tr>\n",
       "    <tr>\n",
       "      <th>1994</th>\n",
       "      <td>2.378694</td>\n",
       "    </tr>\n",
       "    <tr>\n",
       "      <th>1995</th>\n",
       "      <td>4.163525</td>\n",
       "    </tr>\n",
       "    <tr>\n",
       "      <th>1996</th>\n",
       "      <td>6.760240</td>\n",
       "    </tr>\n",
       "    <tr>\n",
       "      <th>1997</th>\n",
       "      <td>15.072357</td>\n",
       "    </tr>\n",
       "    <tr>\n",
       "      <th>1998</th>\n",
       "      <td>24.897400</td>\n",
       "    </tr>\n",
       "    <tr>\n",
       "      <th>1999</th>\n",
       "      <td>36.186440</td>\n",
       "    </tr>\n",
       "    <tr>\n",
       "      <th>2000</th>\n",
       "      <td>51.300000</td>\n",
       "    </tr>\n",
       "    <tr>\n",
       "      <th>2001</th>\n",
       "      <td>60.200000</td>\n",
       "    </tr>\n",
       "    <tr>\n",
       "      <th>2002</th>\n",
       "      <td>61.593299</td>\n",
       "    </tr>\n",
       "    <tr>\n",
       "      <th>2003</th>\n",
       "      <td>64.200000</td>\n",
       "    </tr>\n",
       "    <tr>\n",
       "      <th>2004</th>\n",
       "      <td>65.955963</td>\n",
       "    </tr>\n",
       "    <tr>\n",
       "      <th>2005</th>\n",
       "      <td>71.660000</td>\n",
       "    </tr>\n",
       "    <tr>\n",
       "      <th>2006</th>\n",
       "      <td>72.400000</td>\n",
       "    </tr>\n",
       "    <tr>\n",
       "      <th>2007</th>\n",
       "      <td>73.200000</td>\n",
       "    </tr>\n",
       "    <tr>\n",
       "      <th>2008</th>\n",
       "      <td>76.700000</td>\n",
       "    </tr>\n",
       "    <tr>\n",
       "      <th>2009</th>\n",
       "      <td>80.300000</td>\n",
       "    </tr>\n",
       "    <tr>\n",
       "      <th>2010</th>\n",
       "      <td>80.300000</td>\n",
       "    </tr>\n",
       "    <tr>\n",
       "      <th>2011</th>\n",
       "      <td>83.000000</td>\n",
       "    </tr>\n",
       "    <tr>\n",
       "      <th>2012</th>\n",
       "      <td>83.000000</td>\n",
       "    </tr>\n",
       "    <tr>\n",
       "      <th>2013</th>\n",
       "      <td>85.800000</td>\n",
       "    </tr>\n",
       "    <tr>\n",
       "      <th>2014</th>\n",
       "      <td>87.120000</td>\n",
       "    </tr>\n",
       "    <tr>\n",
       "      <th>2015</th>\n",
       "      <td>90.000000</td>\n",
       "    </tr>\n",
       "    <tr>\n",
       "      <th>2016</th>\n",
       "      <td>91.160000</td>\n",
       "    </tr>\n",
       "    <tr>\n",
       "      <th>2017</th>\n",
       "      <td>92.701372</td>\n",
       "    </tr>\n",
       "    <tr>\n",
       "      <th>2018</th>\n",
       "      <td>94.640000</td>\n",
       "    </tr>\n",
       "    <tr>\n",
       "      <th>2019</th>\n",
       "      <td>96.500000</td>\n",
       "    </tr>\n",
       "    <tr>\n",
       "      <th>2020</th>\n",
       "      <td>96.970000</td>\n",
       "    </tr>\n",
       "  </tbody>\n",
       "</table>\n",
       "</div>"
      ],
      "text/plain": [
       "      Percentage of Internet Users in Canada\n",
       "Year                                        \n",
       "1990                                0.361000\n",
       "1991                                0.570386\n",
       "1992                                0.915981\n",
       "1993                                1.184558\n",
       "1994                                2.378694\n",
       "1995                                4.163525\n",
       "1996                                6.760240\n",
       "1997                               15.072357\n",
       "1998                               24.897400\n",
       "1999                               36.186440\n",
       "2000                               51.300000\n",
       "2001                               60.200000\n",
       "2002                               61.593299\n",
       "2003                               64.200000\n",
       "2004                               65.955963\n",
       "2005                               71.660000\n",
       "2006                               72.400000\n",
       "2007                               73.200000\n",
       "2008                               76.700000\n",
       "2009                               80.300000\n",
       "2010                               80.300000\n",
       "2011                               83.000000\n",
       "2012                               83.000000\n",
       "2013                               85.800000\n",
       "2014                               87.120000\n",
       "2015                               90.000000\n",
       "2016                               91.160000\n",
       "2017                               92.701372\n",
       "2018                               94.640000\n",
       "2019                               96.500000\n",
       "2020                               96.970000"
      ]
     },
     "execution_count": 46,
     "metadata": {},
     "output_type": "execute_result"
    }
   ],
   "source": [
    "data=data.set_index('Year')\n",
    "data"
   ]
  },
  {
   "cell_type": "code",
   "execution_count": 24,
   "id": "42f1fd97-235a-4a06-adbf-4af8f7da7caf",
   "metadata": {},
   "outputs": [
    {
     "name": "stdout",
     "output_type": "stream",
     "text": [
      "The percentage of users in 2000 is  51.3\n"
     ]
    }
   ],
   "source": [
    "print('The percentage of users in 2000 is ',data.loc[2000,'Percentage of Internet Users in Canada'])"
   ]
  },
  {
   "cell_type": "markdown",
   "id": "c39c1b37-69cb-48b4-b946-21e2000a72fc",
   "metadata": {},
   "source": [
    "## Exercise \n",
    "\n",
    "*  Use a linear approximation to predict the percentage of internet users in 2025?\n",
    "\n",
    "**Solution:**\n",
    "- Current year=2020\n",
    "- Prediction year=2025\n",
    "- Use a linear approximation to make a prediction for 2025:\n",
    "Let f(x)=number of internet users at the year $x$, i.e., \n",
    "$$f(2025)\\approx f(2020)+f'(2020)*(\\text{prediction year}-\\text{current year})$$\n",
    "\n",
    "_Step 1:_ Estimate the derivative $f'(2020)$ from the table and assign it to the variable `deriv_2020\n",
    "`\n",
    "\n",
    "_Step2:_ Assign the prediction to the variable prediction\n"
   ]
  },
  {
   "cell_type": "code",
   "execution_count": 25,
   "id": "a64999ba-35e4-4548-80cb-f842faf7016f",
   "metadata": {},
   "outputs": [
    {
     "name": "stdout",
     "output_type": "stream",
     "text": [
      "Approximation of the derivative at 2020 is  0.46999999999999886\n"
     ]
    }
   ],
   "source": [
    "#Approximation of derivative at 2020\n",
    "\n",
    "deriv_2020=(data.loc[2020,'Percentage of Internet Users in Canada']-\n",
    "            data.loc[2019,'Percentage of Internet Users in Canada'])/(2020-2019)\n",
    "print('Approximation of the derivative at 2020 is ', deriv_2020)"
   ]
  },
  {
   "cell_type": "code",
   "execution_count": 26,
   "id": "45079569-52f1-45b7-8362-b64226f13523",
   "metadata": {},
   "outputs": [
    {
     "name": "stdout",
     "output_type": "stream",
     "text": [
      "The percentage of users in 2025 is predicted to be  99.32\n"
     ]
    }
   ],
   "source": [
    "prediction=data.loc[2020,'Percentage of Internet Users in Canada']+\\\n",
    "deriv_2020*(2025-2020)\n",
    "print('The percentage of users in 2025 is predicted to be ',prediction)"
   ]
  },
  {
   "cell_type": "markdown",
   "id": "c7d5f8e6-eb51-4cc2-beda-119c4ba1e962",
   "metadata": {},
   "source": [
    "## Exercise\n",
    "\n",
    "Find a model that could potentially fit the data for the 1995-2020 period\n",
    "\n",
    "_Hint: Try to apply a suitable logistic function: $y=L/(1+Ae^{-kt})$_\n",
    "\n",
    "**Note:** _The logistic function, written in python,is already given to you below."
   ]
  },
  {
   "cell_type": "code",
   "execution_count": 75,
   "id": "45da006c-bbb6-4914-90ba-fe7455cd2d2d",
   "metadata": {},
   "outputs": [],
   "source": [
    "def logistic(x,L,A,k):\n",
    "    y=L/(1+A*np.exp((-k)*x))\n",
    "    return y\n",
    "\n"
   ]
  },
  {
   "cell_type": "code",
   "execution_count": 85,
   "id": "3e2b8ad8-7e7f-4eca-b161-0f47f599ce3d",
   "metadata": {},
   "outputs": [
    {
     "data": {
      "image/png": "[encoded data removed]",
      "text/plain": [
       "<Figure size 640x480 with 1 Axes>"
      ]
     },
     "metadata": {},
     "output_type": "display_data"
    }
   ],
   "source": [
    "years=np.arange(0,31)\n",
    "users=logistic(years,L=10000,A=10000000,k=1.4)\n",
    "plt.plot(years,users,color='blue');\n"
   ]
  },
  {
   "cell_type": "code",
   "execution_count": 93,
   "id": "93c15a56-673c-48e8-8a65-a7de8837af3c",
   "metadata": {},
   "outputs": [
    {
     "data": {
      "text/plain": [
       "(0.0, 0.8)"
      ]
     },
     "execution_count": 93,
     "metadata": {},
     "output_type": "execute_result"
    },
    {
     "data": {
      "image/png": "[encoded data removed]",
      "text/plain": [
       "<Figure size 640x480 with 1 Axes>"
      ]
     },
     "metadata": {},
     "output_type": "display_data"
    }
   ],
   "source": [
    "years=np.arange(0,31)\n",
    "users=logistic(years,L=1000000,A=1000,k=1.4)\n",
    "plt.plot(years,users,color='blue')\n",
    "plt.plot(years,\n",
    "         data['Percentage of Internet Users in Canada'],\n",
    "         color='g',\n",
    "        marker=\"*\")\n",
    "plt.ylim([0,0.8])\n"
   ]
  },
  {
   "cell_type": "code",
   "execution_count": null,
   "id": "20615e2a-92fa-4fca-b1d4-38c1c70ff377",
   "metadata": {},
   "outputs": [],
   "source": []
  }
 ],
 "metadata": {
  "kernelspec": {
   "display_name": "Python 3 (ipykernel)",
   "language": "python",
   "name": "python3"
  },
  "language_info": {
   "codemirror_mode": {
    "name": "ipython",
    "version": 3
   },
   "file_extension": ".py",
   "mimetype": "text/x-python",
   "name": "python",
   "nbconvert_exporter": "python",
   "pygments_lexer": "ipython3",
   "version": "3.12.8"
  }
 },
 "nbformat": 4,
 "nbformat_minor": 5
}
