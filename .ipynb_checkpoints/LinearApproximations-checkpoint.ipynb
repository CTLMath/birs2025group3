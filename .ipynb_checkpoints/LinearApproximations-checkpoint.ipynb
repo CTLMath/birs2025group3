{
 "cells": [
  {
   "cell_type": "markdown",
   "id": "9a85b3e8-042d-4b01-be12-c17ecbdd1d53",
   "metadata": {},
   "source": [
    "# LinearApproximations\n",
    "In this section, we explore the idea of approximating potentially complicated functions with a much simpler family of functions: linear functions.\n",
    "\n",
    "Let's first remind ourselves of the following version of the definition of the derivative at a point: $$f'(a)=\\displaystyle\\lim_{x\\to a}\\frac{f(x)-f(a)}{x-a}.$$\n",
    "\n",
    "In defining the derivative with a limit, what we are saying is that for $x$-values \\textit{very close} to $a$ we have: $$f'(a)\\approx\\frac{f(x)-f(a)}{x-a}.$$\n",
    "\n",
    "To be clear, we are saying we can \\textit{approximate} the value of the derivative at a point with the above expression for $x$-values \\textit{very close} to $a$.\n",
    "\n",
    "We can then rearrange the above approximation to read $$f(x)\\approx f'(a)(x-a)+f(a)$$ for $x$-values very close to $a$.\n",
    "\n",
    "Now wait just a minute - this looks strikingly familiar. This is nothing but the equation of the tangent line to $f(x)$ at $x=a$ so let's give it a special name.\n",
    "\n",
    "Let $f(x)$ be differentiable at $x=a$. Then the linear approximation $L_a^f(x)$, to $f(x)$ at $x=a$ is the function $$L_a^f(x)=f'(a)(x-a)+f(a)$$ where if $f(x)$ is clear from context, we write instead $L_a(x)$."
   ]
  },
  {
   "cell_type": "code",
   "execution_count": null,
   "id": "e1477627-3e18-44aa-917a-65e265a13946",
   "metadata": {},
   "outputs": [],
   "source": []
  }
 ],
 "metadata": {
  "kernelspec": {
   "display_name": "Python 3 (ipykernel)",
   "language": "python",
   "name": "python3"
  },
  "language_info": {
   "codemirror_mode": {
    "name": "ipython",
    "version": 3
   },
   "file_extension": ".py",
   "mimetype": "text/x-python",
   "name": "python",
   "nbconvert_exporter": "python",
   "pygments_lexer": "ipython3",
   "version": "3.12.8"
  }
 },
 "nbformat": 4,
 "nbformat_minor": 5
}
