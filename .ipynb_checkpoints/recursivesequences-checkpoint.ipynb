{
 "cells": [
  {
   "cell_type": "markdown",
   "id": "4df7faa7-ebf4-48d1-88e3-ce44a709277e",
   "metadata": {},
   "source": [
    "# Recursive Sequences\n",
    "\n",
    "We call $\\{a_n\\}$ bounded if it is both bounded above and bounded below.\n",
    "\n",
    "Consider the sequence $\\{a_n\\}$ recursively defined via  $$a_{1}=1, \\quad a_{n+1}=\\frac{3+a_{n}}{2} \\quad(n \\geqslant 1).$$\n",
    "We'll try to determine if this sequence converges and if so find its limit.\n",
    "Let's take a look at the first $10$ terms of this sequence:\n"
   ]
  },
  {
   "cell_type": "code",
   "execution_count": 11,
   "id": "f16d0c2b-8b3f-4840-968a-003599fba9e9",
   "metadata": {},
   "outputs": [
    {
     "name": "stdout",
     "output_type": "stream",
     "text": [
      "The value of a1 is 1\n",
      "The value of a2 is 2.0\n",
      "The value of a3 is 2.5\n",
      "The value of a4 is 2.75\n",
      "The value of a5 is 2.875\n",
      "The value of a6 is 2.9375\n",
      "The value of a7 is 2.96875\n",
      "The value of a8 is 2.984375\n",
      "The value of a9 is 2.9921875\n",
      "The value of a10 is 2.99609375\n"
     ]
    }
   ],
   "source": [
    "a1=1\n",
    "a2=(3+a1)/2\n",
    "a3=(3+a2)/2\n",
    "a4=(3+a3)/2\n",
    "a5=(3+a4)/2\n",
    "a6=(3+a5)/2\n",
    "a7=(3+a6)/2\n",
    "a8=(3+a7)/2\n",
    "a9=(3+a8)/2\n",
    "a10=(3+a9)/2\n",
    "print(\"The value of a1 is\",a1)\n",
    "print(\"The value of a2 is\",a2)\n",
    "print(\"The value of a3 is\",a3)\n",
    "print(\"The value of a4 is\",a4)\n",
    "print(\"The value of a5 is\",a5)\n",
    "print(\"The value of a6 is\",a6)\n",
    "print(\"The value of a7 is\",a7)\n",
    "print(\"The value of a8 is\",a8)\n",
    "print(\"The value of a9 is\",a9)\n",
    "print(\"The value of a10 is\",a10)"
   ]
  },
  {
   "cell_type": "markdown",
   "id": "729f08f3-c457-4bc8-a302-b94e68a69491",
   "metadata": {},
   "source": [
    "Before we describe how to determine if a recursive sequence converges, we first introduce some terminology.\n",
    "We say that $\\alpha$ is an upper bound of $\\{a_n\\}$ if $a_n \\leq \\alpha$ for all $n \\in \\mathbb{N}$. In this case, we say $\\{a_n\\}$ is bounded below and $\\alpha$ is an upper bound of $\\{a_n\\}$. Similarly, $\\beta$ is a lower bound of $\\{a_n\\}$ if $a_n \\geq \\alpha$ for all $n \\in \\mathbb{N}$. In this case $\\{a_n\\}$ is bounded below and $\\beta$ is a lower bound of $\\{a_n\\}$.\n",
    "Based on our calculations above, we see that this sequence is bounded below by $1$ and bounded above by $3$. But, we can also say this sequence is bounded below by $0$ and bounded above by $5$, or this sequence is bounded below by $-1$ and bounded above by $100$. Clearly, these values are not unique!\n",
    "\n",
    "This brings us the notion of least upper bound and smallest upper bound.\n",
    "\n",
    "$\\alpha$ is called the least upper bound of $\\{a_n\\}$ if:\n",
    "\n",
    "* $\\alpha$ is an upper bound, and \n",
    "* $\\alpha$ is the smallest upper bound, that is, if $\\alpha'$ is another upper bound of $\\{a_n\\}$, then $\\alpha^{\\prime} \\geq  \\alpha$.\n",
    "\n",
    "Similarly, $\\beta$ is called the greatest lower bound of $\\{a_n\\}$ if:\n",
    "* $\\beta$ is a lower bound, and \n",
    "* $\\beta$ is the largest lower bound, that is, if $\\beta'$ is another lower bound of $\\{a_n\\}$, then $\\beta'\\leq  \\beta$.\n",
    "\n",
    "The code below will calculate the first $10$ terms of the same sequence $a_{1}=1, \\quad a_{n+1}=\\dfrac{3+a_{n}}{2} \\quad(n \\geqslant 1).$ using a more efficient method, using a for loop:\n"
   ]
  },
  {
   "cell_type": "code",
   "execution_count": 12,
   "id": "f1aed0fd-c0a2-4ea4-bf70-e74fd010c79b",
   "metadata": {
    "editable": true,
    "slideshow": {
     "slide_type": ""
    },
    "tags": []
   },
   "outputs": [
    {
     "name": "stdout",
     "output_type": "stream",
     "text": [
      "The value of a1 is 1\n",
      "The value of a2 is 2.0\n",
      "The value of a3 is 2.5\n",
      "The value of a4 is 2.75\n",
      "The value of a5 is 2.875\n",
      "The value of a6 is 2.9375\n",
      "The value of a7 is 2.96875\n",
      "The value of a8 is 2.984375\n",
      "The value of a9 is 2.9921875\n",
      "The value of a10 is 2.99609375\n"
     ]
    }
   ],
   "source": [
    "a = [1]  # start with a1 = 1\n",
    "\n",
    "for i in range(1, 10):  # from a2 to a10\n",
    "    next_term = (3 + a[i - 1]) / 2\n",
    "    a.append(next_term)\n",
    "\n",
    "for i in range(10):\n",
    "    print(f\"The value of a{i+1} is\", a[i])"
   ]
  },
  {
   "cell_type": "markdown",
   "id": "ca6797c1-da5d-4a8b-a524-2d011a439e82",
   "metadata": {},
   "source": [
    "Based on our calculations above, we say the greatest lower bound of $\\{a_n\\}$ is $1$ and the least upper bound $\\{a_n\\}$ is $3$."
   ]
  }
 ],
 "metadata": {
  "kernelspec": {
   "display_name": "Python 3 (ipykernel)",
   "language": "python",
   "name": "python3"
  },
  "language_info": {
   "codemirror_mode": {
    "name": "ipython",
    "version": 3
   },
   "file_extension": ".py",
   "mimetype": "text/x-python",
   "name": "python",
   "nbconvert_exporter": "python",
   "pygments_lexer": "ipython3",
   "version": "3.12.8"
  }
 },
 "nbformat": 4,
 "nbformat_minor": 5
}
